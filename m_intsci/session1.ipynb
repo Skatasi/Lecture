{
 "cells": [
  {
   "cell_type": "code",
   "execution_count": 3,
   "metadata": {},
   "outputs": [
    {
     "name": "stdout",
     "output_type": "stream",
     "text": [
      "4.919 4.861409 2.2048603130357263\n",
      "8.942000000000002 15.624916000000002 3.952836449943256\n",
      "0.44823344440653107\n",
      "0.44205283492991\n"
     ]
    }
   ],
   "source": [
    "import numpy as np\n",
    "\n",
    "\n",
    "x1 = np.array([7.66, 2.73, 7.36, 7.59, 6.24, 4.97, 5.42, 1.27, 3.39, 2.56])\n",
    "x2 = np.array([9.75, 12.51, 6.85, 16.01, 5.11, 5.94, 12.17, 9.56, 9.87, 1.65])\n",
    "\n",
    "print(np.mean(x1), np.var(x1), np.std(x1))\n",
    "print(np.mean(x2), np.var(x2), np.std(x2))\n",
    "print(np.std(x1) / np.mean(x1))\n",
    "print(np.std(x2) / np.mean(x2))"
   ]
  },
  {
   "cell_type": "code",
   "execution_count": 11,
   "metadata": {},
   "outputs": [
    {
     "name": "stdout",
     "output_type": "stream",
     "text": [
      "0.05555555555555555\n"
     ]
    }
   ],
   "source": [
    "import math\n",
    "a= 0.5\n",
    "n = 2\n",
    "m = 0\n",
    "for k in range(n):\n",
    "    m += 1.25 ** k / math.factorial(k)\n",
    "pb = a ** n /math.factorial(n) / m\n",
    "print(pb)"
   ]
  }
 ],
 "metadata": {
  "kernelspec": {
   "display_name": "Python 3",
   "language": "python",
   "name": "python3"
  },
  "language_info": {
   "codemirror_mode": {
    "name": "ipython",
    "version": 3
   },
   "file_extension": ".py",
   "mimetype": "text/x-python",
   "name": "python",
   "nbconvert_exporter": "python",
   "pygments_lexer": "ipython3",
   "version": "3.12.4"
  }
 },
 "nbformat": 4,
 "nbformat_minor": 2
}
